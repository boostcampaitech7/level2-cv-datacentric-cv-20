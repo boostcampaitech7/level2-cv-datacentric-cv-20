{
 "cells": [
  {
   "cell_type": "code",
   "execution_count": 2,
   "metadata": {},
   "outputs": [
    {
     "name": "stderr",
     "output_type": "stream",
     "text": [
      "/opt/conda/lib/python3.10/site-packages/tqdm/auto.py:21: TqdmWarning: IProgress not found. Please update jupyter and ipywidgets. See https://ipywidgets.readthedocs.io/en/stable/user_install.html\n",
      "  from .autonotebook import tqdm as notebook_tqdm\n"
     ]
    }
   ],
   "source": [
    "# 라이브러리 호출\n",
    "%matplotlib inline\n",
    "import glob\n",
    "import json\n",
    "import matplotlib.pyplot as plt\n",
    "import pandas as pd\n",
    "import seaborn as sns\n",
    "from pathlib import Path\n",
    "from PIL import Image\n",
    "from collections import Counter\n",
    "import numpy as np\n",
    "from shapely.geometry import Polygon\n",
    "from shapely.affinity import rotate\n",
    "from tqdm.auto import tqdm"
   ]
  },
  {
   "cell_type": "code",
   "execution_count": 3,
   "metadata": {},
   "outputs": [],
   "source": [
    "LANGUAGE_LIST = ['chinese', 'japanese', 'thai', 'vietnamese']\n"
   ]
  },
  {
   "cell_type": "code",
   "execution_count": 4,
   "metadata": {},
   "outputs": [
    {
     "name": "stdout",
     "output_type": "stream",
     "text": [
      "Total number of images: 400\n",
      "Total number of images: 400\n"
     ]
    }
   ],
   "source": [
    "from IPython.core.interactiveshell import InteractiveShell\n",
    "InteractiveShell.ast_node_interactivity = \"all\"\n",
    "\n",
    "def read_json(filename):\n",
    "    with Path(filename).open(encoding='utf8') as handle:\n",
    "        ann = json.load(handle)\n",
    "    return ann\n",
    "\n",
    "path_lists = glob.glob(f\"../data/*_receipt/ufo/train.json\")\n",
    "\n",
    "data = {}\n",
    "data['images'] = {}\n",
    "for path in path_lists:    \n",
    "    json_data = read_json(path)\n",
    "    images = list(json_data['images'].items())\n",
    "    data['images'].update(dict(images))\n",
    "\n",
    "print(f\"Total number of images: {len(data['images'])}\")\n",
    "\n",
    "path_lists_100 = glob.glob(f\"output_train_100.json\")\n",
    "\n",
    "data_train100 = {}\n",
    "data_train100['images'] = {}\n",
    "for path in path_lists_100:\n",
    "    json_data = read_json(path)\n",
    "    images = list(json_data['images'].items())\n",
    "    data_train100['images'].update(dict(images))\n",
    "\n",
    "print(f\"Total number of images: {len(data_train100['images'])}\")"
   ]
  },
  {
   "cell_type": "code",
   "execution_count": 5,
   "metadata": {},
   "outputs": [
    {
     "name": "stdout",
     "output_type": "stream",
     "text": [
      "100\n",
      "100\n",
      "100\n",
      "100\n"
     ]
    }
   ],
   "source": [
    "keys_list = sorted(list(data['images'].keys()))\n",
    "ja_keys_list = list()\n",
    "zh_keys_list = list()\n",
    "th_keys_list = list()\n",
    "vi_keys_list = list()\n",
    "\n",
    "for key in keys_list:\n",
    "    if key.split('.')[1] == 'ja':\n",
    "        ja_keys_list.append(key)\n",
    "    elif key.split('.')[1] == 'zh':\n",
    "        zh_keys_list.append(key)\n",
    "    elif key.split('.')[1] == 'th':\n",
    "        th_keys_list.append(key)\n",
    "    elif key.split('.')[1] == 'vi':\n",
    "        vi_keys_list.append(key)\n",
    "t_key_list = [sorted(ja_keys_list),sorted(zh_keys_list),sorted(th_keys_list),sorted(vi_keys_list)]\n",
    "for lan in t_key_list:\n",
    "    print(len(lan))"
   ]
  },
  {
   "cell_type": "code",
   "execution_count": 6,
   "metadata": {},
   "outputs": [
    {
     "data": {
      "text/plain": [
       "100"
      ]
     },
     "execution_count": 6,
     "metadata": {},
     "output_type": "execute_result"
    }
   ],
   "source": [
    "len(t_key_list[0])"
   ]
  },
  {
   "cell_type": "code",
   "execution_count": 7,
   "metadata": {},
   "outputs": [
    {
     "name": "stderr",
     "output_type": "stream",
     "text": [
      "100%|██████████| 100/100 [01:00<00:00,  1.66it/s]\n",
      "100%|██████████| 100/100 [01:18<00:00,  1.28it/s]\n",
      "100%|██████████| 100/100 [01:30<00:00,  1.11it/s]\n",
      "100%|██████████| 100/100 [04:02<00:00,  2.43s/it]\n"
     ]
    }
   ],
   "source": [
    "def get_box_angle(box):\n",
    "    # 박스의 긴 변 방향을 찾습니다\n",
    "    coords = np.array(box.exterior.coords)\n",
    "    edges = np.diff(coords, axis=0)\n",
    "    longest_edge = edges[np.argmax(np.sum(edges**2, axis=1))]\n",
    "    angle = np.arctan2(longest_edge[1], longest_edge[0])\n",
    "    return angle\n",
    "\n",
    "def angle_difference(box1, box2):\n",
    "    angle1 = get_box_angle(box1)\n",
    "    angle2 = get_box_angle(box2)\n",
    "    diff = angle2 - angle1\n",
    "    # 각도 차이를 -pi에서 pi 사이로 정규화합니다\n",
    "    return (diff + np.pi) % (2 * np.pi) - np.pi\n",
    "\n",
    "def rotated_boxes_iou(box1, box2):\n",
    "    poly1 = Polygon(box1)\n",
    "    poly2 = Polygon(box2)    \n",
    "    if not poly1.is_valid:\n",
    "        poly1 = poly1.buffer(0)\n",
    "    if not poly2.is_valid:\n",
    "        poly2 = poly2.buffer(0)    \n",
    "    inter_area = poly1.intersection(poly2).area    \n",
    "    union_area = poly1.area + poly2.area - inter_area    \n",
    "    iou = inter_area / union_area if union_area > 0 else 0    \n",
    "    return iou\n",
    "\n",
    "# 데이터 저장\n",
    "iou_data = {}\n",
    "def store_data(language, image, box, box2, iou, angle_diff):\n",
    "    if language not in data:\n",
    "        data[language] = {}\n",
    "    if image not in data[language]:\n",
    "        data[language][image] = {}\n",
    "    data[language][image][box] = {'ybox':box2, 'iou': iou, 'angle_diff': angle_diff}\n",
    "\n",
    "def get_data(language, image, box):\n",
    "    return data[language][image][box]\n",
    "\n",
    "# 모든 나라\n",
    "for lang in t_key_list:\n",
    "    country = lang[0].split('.')[1]\n",
    "    # 나라별 이미지\n",
    "    for li in tqdm(lang):\n",
    "        # 이미지별 박스\n",
    "        for p1 in data['images'][li]['words']:\n",
    "            max = 0 \n",
    "            mp2 = None\n",
    "            box1 = data['images'][li]['words'][p1]['points']\n",
    "            for p2 in data_train100['images'][li]['words']:\n",
    "                box2 = data_train100['images'][li]['words'][p2]['points']\n",
    "                iou = rotated_boxes_iou(box1, box2)\n",
    "                if max < iou:\n",
    "                    max = iou\n",
    "                    mp2 = p2\n",
    "            angle_diff = None\n",
    "            if not mp2 == None: \n",
    "                box2 = data_train100['images'][li]['words'][mp2]['points']\n",
    "                angle_diff = angle_difference(Polygon(box1), Polygon(box2))\n",
    "            store_data(country,li,p1,mp2,max,angle_diff)\n",
    "                       \n",
    "\n",
    "\n",
    "\n",
    "# store_data('english', 'image001.jpg', 'box1', 0.85, 15.5)\n",
    "# store_data('english', 'image001.jpg', 'box2', 0.92, 5.2)\n",
    "# store_data('french', 'image002.jpg', 'box1', 0.78, 30.1)\n",
    "\n",
    "# print(get_data('english', 'image001.jpg', 'box1'))"
   ]
  },
  {
   "cell_type": "code",
   "execution_count": 11,
   "metadata": {},
   "outputs": [
    {
     "name": "stdout",
     "output_type": "stream",
     "text": [
      "ja : IoU 0.7288, precision: 0.8676, not found: 0.0109, used ybox: 0.8532 \n",
      "zh : IoU 0.7388, precision: 0.8875, not found: 0.0024, used ybox: 0.7593 \n",
      "th : IoU 0.7114, precision: 0.8612, not found: 0.0083, used ybox: 0.8391 \n",
      "vi : IoU 0.7676, precision: 0.9084, not found: 0.0043, used ybox: 0.8612 \n"
     ]
    }
   ],
   "source": [
    "iou_list = []\n",
    "precision_list = []\n",
    "not_found_list = []\n",
    "used_ybox_list = []\n",
    "for lang in t_key_list:\n",
    "    country = lang[0].split('.')[1]\n",
    "    # 나라별 이미지\n",
    "    sumiou = 0\n",
    "    count = 0\n",
    "    tcount = 0 \n",
    "    ycount=0\n",
    "    Nount = 0\n",
    "    totalboxcount = 0\n",
    "    usedboxcount = 0\n",
    "    for li in lang:\n",
    "        # 이미지별 박스\n",
    "        imge = np.zeros(len(data_train100['images'][li]['words']))\n",
    "        totalboxcount +=len(data_train100['images'][li]['words'])\n",
    "        for p1 in data['images'][li]['words']:\n",
    "            ycount += len(data_train100['images'][li])\n",
    "            temp =  get_data(country, li, p1)\n",
    "            iou = temp['iou']\n",
    "            sumiou += iou\n",
    "            count += 1\n",
    "            if iou > 0.5:\n",
    "                tcount +=1\n",
    "            if temp['ybox'] == None:\n",
    "                Nount +=1\n",
    "            else:\n",
    "                imge[int(temp['ybox'])] = 1\n",
    "        usedboxcount +=sum(imge)\n",
    "        #print(f'{(len(imge) - sum(imge))/count :.4f}')\n",
    "    iou_list.append(sumiou/count)\n",
    "    precision_list.append(tcount/count)\n",
    "    not_found_list.append(Nount/count)\n",
    "    used_ybox_list.append(usedboxcount/totalboxcount)\n",
    "    print(f'{country} : IoU {sumiou/count:.4f}, precision: {tcount/count:.4f}, not found: {Nount/count:.4f}, used ybox:{usedboxcount/totalboxcount: 0.4f} ')\n",
    " \n"
   ]
  },
  {
   "cell_type": "code",
   "execution_count": 20,
   "metadata": {},
   "outputs": [
    {
     "data": {
      "text/plain": [
       "Text(0.5, 0.98, 'Comparison of Metrics Across Countries')"
      ]
     },
     "execution_count": 20,
     "metadata": {},
     "output_type": "execute_result"
    },
    {
     "data": {
      "text/plain": [
       "Text(0.5, 1.0, 'IoU')"
      ]
     },
     "execution_count": 20,
     "metadata": {},
     "output_type": "execute_result"
    },
    {
     "data": {
      "text/plain": [
       "(0.0, 0.8443307711290062)"
      ]
     },
     "execution_count": 20,
     "metadata": {},
     "output_type": "execute_result"
    },
    {
     "data": {
      "text/plain": [
       "Text(0.0, 0.7288174810376974, '0.7288')"
      ]
     },
     "execution_count": 20,
     "metadata": {},
     "output_type": "execute_result"
    },
    {
     "data": {
      "text/plain": [
       "Text(1.0, 0.7388189146417969, '0.7388')"
      ]
     },
     "execution_count": 20,
     "metadata": {},
     "output_type": "execute_result"
    },
    {
     "data": {
      "text/plain": [
       "Text(2.0, 0.7114141911881052, '0.7114')"
      ]
     },
     "execution_count": 20,
     "metadata": {},
     "output_type": "execute_result"
    },
    {
     "data": {
      "text/plain": [
       "Text(3.0, 0.7675734282990965, '0.7676')"
      ]
     },
     "execution_count": 20,
     "metadata": {},
     "output_type": "execute_result"
    },
    {
     "data": {
      "text/plain": [
       "Text(0, 0.5, 'Value')"
      ]
     },
     "execution_count": 20,
     "metadata": {},
     "output_type": "execute_result"
    },
    {
     "data": {
      "text/plain": [
       "Text(0.5, 1.0, 'Precision')"
      ]
     },
     "execution_count": 20,
     "metadata": {},
     "output_type": "execute_result"
    },
    {
     "data": {
      "text/plain": [
       "(0.0, 0.999266379964584)"
      ]
     },
     "execution_count": 20,
     "metadata": {},
     "output_type": "execute_result"
    },
    {
     "data": {
      "text/plain": [
       "Text(0.0, 0.8676177836761778, '0.8676')"
      ]
     },
     "execution_count": 20,
     "metadata": {},
     "output_type": "execute_result"
    },
    {
     "data": {
      "text/plain": [
       "Text(1.0, 0.8875400438374642, '0.8875')"
      ]
     },
     "execution_count": 20,
     "metadata": {},
     "output_type": "execute_result"
    },
    {
     "data": {
      "text/plain": [
       "Text(2.0, 0.8612472766884531, '0.8612')"
      ]
     },
     "execution_count": 20,
     "metadata": {},
     "output_type": "execute_result"
    },
    {
     "data": {
      "text/plain": [
       "Text(3.0, 0.9084239817859854, '0.9084')"
      ]
     },
     "execution_count": 20,
     "metadata": {},
     "output_type": "execute_result"
    },
    {
     "data": {
      "text/plain": [
       "Text(0, 0.5, 'Value')"
      ]
     },
     "execution_count": 20,
     "metadata": {},
     "output_type": "execute_result"
    },
    {
     "data": {
      "text/plain": [
       "Text(0.5, 1.0, 'Not Found')"
      ]
     },
     "execution_count": 20,
     "metadata": {},
     "output_type": "execute_result"
    },
    {
     "data": {
      "text/plain": [
       "(0.0, 0.012043795620437957)"
      ]
     },
     "execution_count": 20,
     "metadata": {},
     "output_type": "execute_result"
    },
    {
     "data": {
      "text/plain": [
       "Text(0.0, 0.010948905109489052, '0.0109')"
      ]
     },
     "execution_count": 20,
     "metadata": {},
     "output_type": "execute_result"
    },
    {
     "data": {
      "text/plain": [
       "Text(1.0, 0.0023604788399932556, '0.0024')"
      ]
     },
     "execution_count": 20,
     "metadata": {},
     "output_type": "execute_result"
    },
    {
     "data": {
      "text/plain": [
       "Text(2.0, 0.008306100217864924, '0.0083')"
      ]
     },
     "execution_count": 20,
     "metadata": {},
     "output_type": "execute_result"
    },
    {
     "data": {
      "text/plain": [
       "Text(3.0, 0.0043005312420946115, '0.0043')"
      ]
     },
     "execution_count": 20,
     "metadata": {},
     "output_type": "execute_result"
    },
    {
     "data": {
      "text/plain": [
       "Text(0, 0.5, 'Value')"
      ]
     },
     "execution_count": 20,
     "metadata": {},
     "output_type": "execute_result"
    },
    {
     "data": {
      "text/plain": [
       "Text(0.5, 1.0, 'Used YBox')"
      ]
     },
     "execution_count": 20,
     "metadata": {},
     "output_type": "execute_result"
    },
    {
     "data": {
      "text/plain": [
       "(0.0, 0.9473180935305544)"
      ]
     },
     "execution_count": 20,
     "metadata": {},
     "output_type": "execute_result"
    },
    {
     "data": {
      "text/plain": [
       "Text(0.0, 0.8531691746466028, '0.8532')"
      ]
     },
     "execution_count": 20,
     "metadata": {},
     "output_type": "execute_result"
    },
    {
     "data": {
      "text/plain": [
       "Text(1.0, 0.759344262295082, '0.7593')"
      ]
     },
     "execution_count": 20,
     "metadata": {},
     "output_type": "execute_result"
    },
    {
     "data": {
      "text/plain": [
       "Text(2.0, 0.8390997246498264, '0.8391')"
      ]
     },
     "execution_count": 20,
     "metadata": {},
     "output_type": "execute_result"
    },
    {
     "data": {
      "text/plain": [
       "Text(3.0, 0.8611982668459585, '0.8612')"
      ]
     },
     "execution_count": 20,
     "metadata": {},
     "output_type": "execute_result"
    },
    {
     "data": {
      "text/plain": [
       "Text(0, 0.5, 'Value')"
      ]
     },
     "execution_count": 20,
     "metadata": {},
     "output_type": "execute_result"
    },
    {
     "data": {
      "image/png": "[encoded data removed]",
      "text/plain": [
       "<Figure size 1500x1200 with 4 Axes>"
      ]
     },
     "metadata": {},
     "output_type": "display_data"
    }
   ],
   "source": [
    "# 막대 그래프의 위치 설정\n",
    "countries = ['ja', 'zh', 'th', 'vi']\n",
    "x = np.arange(len(countries))\n",
    "width = 0.2\n",
    "\n",
    "# 그래프 생성\n",
    "fig, axs = plt.subplots(2, 2, figsize=(15, 12))\n",
    "fig.suptitle('Comparison of Metrics Across Countries', fontsize=16)\n",
    "\n",
    "metrics = [iou_list, precision_list, not_found_list, used_ybox_list]\n",
    "titles = ['IoU', 'Precision', 'Not Found', 'Used YBox']\n",
    "# 유명한 색상 팔레트에서 각 나라별 색상 지정\n",
    "colors = {\n",
    "    'ja': '#1f77b4',  # 일본 - 블루\n",
    "    'zh': '#ff7f0e',  # 중국 - 오렌지\n",
    "    'th': '#2ca02c',  # 태국 - 그린\n",
    "    'vi': '#d62728'   # 베트남 - 레드\n",
    "}\n",
    "\n",
    "for i, (ax, metric, title) in enumerate(zip(axs.flat, metrics, titles)):\n",
    "    bars = ax.bar(countries, metric, color=[colors[country] for country in countries])\n",
    "    ax.set_title(title)\n",
    "    ax.set_ylim(0, sorted(metric)[-1] * 1.1)  # 최대값의 110%로 y축 설정\n",
    "    \n",
    "    # 막대 위에 값 표시\n",
    "    for bar in bars:\n",
    "        height = bar.get_height()\n",
    "        ax.text(bar.get_x() + bar.get_width()/2., height,\n",
    "                f'{height:.4f}',\n",
    "                ha='center', va='bottom', rotation=0)\n",
    "\n",
    "    # y축 레이블 설정\n",
    "    ax.set_ylabel('Value')\n",
    "\n",
    "plt.tight_layout()\n",
    "plt.subplots_adjust(top=0.92)  # 전체 제목과 서브플롯 사이 간격 조정\n",
    "plt.show()"
   ]
  }
 ],
 "metadata": {
  "kernelspec": {
   "display_name": "base",
   "language": "python",
   "name": "python3"
  },
  "language_info": {
   "codemirror_mode": {
    "name": "ipython",
    "version": 3
   },
   "file_extension": ".py",
   "mimetype": "text/x-python",
   "name": "python",
   "nbconvert_exporter": "python",
   "pygments_lexer": "ipython3",
   "version": "3.10.13"
  }
 },
 "nbformat": 4,
 "nbformat_minor": 2
}
